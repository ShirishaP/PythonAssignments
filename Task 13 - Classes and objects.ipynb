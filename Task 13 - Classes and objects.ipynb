{
 "cells": [
  {
   "cell_type": "markdown",
   "metadata": {},
   "source": [
    "Class, object and methods Example"
   ]
  },
  {
   "cell_type": "code",
   "execution_count": 34,
   "metadata": {},
   "outputs": [],
   "source": [
    "class House:\n",
    "    walls = \"brick walls\"\n",
    "    doors = \"Teak\"\n",
    "    def __init__(self,typeOfHouse,noOfRooms,windowsType):\n",
    "        self.typeOfHouse = typeOfHouse\n",
    "        self.noOfRooms = noOfRooms\n",
    "        self.windowsType = windowsType\n",
    "    def typeofHouse(self):\n",
    "        print(\"The type of house selected is\", self.typeOfHouse)\n",
    "    def costOfHouse(self,area):\n",
    "        finalCost = int(area)*1000\n",
    "        print(\"The cost of house will be\", finalCost)\n",
    "    def noOfFloors(self,floors=1):\n",
    "        print(\"The number of floors of the house will be\", floors)\n",
    "        \n",
    "    \n",
    "    "
   ]
  },
  {
   "cell_type": "code",
   "execution_count": 35,
   "metadata": {},
   "outputs": [],
   "source": [
    "house1 = House(\"Villa\",3,\"sliding windows\") #creating an object"
   ]
  },
  {
   "cell_type": "code",
   "execution_count": 36,
   "metadata": {},
   "outputs": [
    {
     "data": {
      "text/plain": [
       "'Teak'"
      ]
     },
     "execution_count": 36,
     "metadata": {},
     "output_type": "execute_result"
    }
   ],
   "source": [
    "house1.doors #class variable\n"
   ]
  },
  {
   "cell_type": "code",
   "execution_count": 37,
   "metadata": {},
   "outputs": [
    {
     "data": {
      "text/plain": [
       "3"
      ]
     },
     "execution_count": 37,
     "metadata": {},
     "output_type": "execute_result"
    }
   ],
   "source": [
    "house1.noOfRooms # instance variable"
   ]
  },
  {
   "cell_type": "code",
   "execution_count": 38,
   "metadata": {},
   "outputs": [
    {
     "name": "stdout",
     "output_type": "stream",
     "text": [
      "The cost of house will be 1500000\n"
     ]
    }
   ],
   "source": [
    "house1.costOfHouse(1500) #calling a method with parameters"
   ]
  },
  {
   "cell_type": "code",
   "execution_count": 39,
   "metadata": {},
   "outputs": [
    {
     "name": "stdout",
     "output_type": "stream",
     "text": [
      "The number of floors of the house will be 1\n"
     ]
    }
   ],
   "source": [
    "house1.noOfFloors() #calling a method with default parameters"
   ]
  },
  {
   "cell_type": "code",
   "execution_count": 40,
   "metadata": {},
   "outputs": [
    {
     "name": "stdout",
     "output_type": "stream",
     "text": [
      "The number of floors of the house will be 3\n"
     ]
    }
   ],
   "source": [
    "house1.noOfFloors(3) #calling a method with default parameters"
   ]
  },
  {
   "cell_type": "code",
   "execution_count": 41,
   "metadata": {},
   "outputs": [
    {
     "name": "stdout",
     "output_type": "stream",
     "text": [
      "The type of house selected is Villa\n"
     ]
    }
   ],
   "source": [
    "house1.typeofHouse()  #calling a method with no parameters"
   ]
  },
  {
   "cell_type": "code",
   "execution_count": null,
   "metadata": {},
   "outputs": [],
   "source": []
  }
 ],
 "metadata": {
  "kernelspec": {
   "display_name": "Python 3",
   "language": "python",
   "name": "python3"
  },
  "language_info": {
   "codemirror_mode": {
    "name": "ipython",
    "version": 3
   },
   "file_extension": ".py",
   "mimetype": "text/x-python",
   "name": "python",
   "nbconvert_exporter": "python",
   "pygments_lexer": "ipython3",
   "version": "3.8.3"
  }
 },
 "nbformat": 4,
 "nbformat_minor": 4
}
