{
 "cells": [
  {
   "cell_type": "markdown",
   "metadata": {},
   "source": [
    "Task10\n",
    "1. using while loop print numbers from 10 to 1\n",
    "2. try using for loop to loop over tuples,sets and dictionaries"
   ]
  },
  {
   "cell_type": "code",
   "execution_count": 3,
   "metadata": {},
   "outputs": [
    {
     "name": "stdout",
     "output_type": "stream",
     "text": [
      "10\n",
      "9\n",
      "8\n",
      "7\n",
      "6\n",
      "5\n",
      "4\n",
      "3\n",
      "2\n",
      "1\n"
     ]
    }
   ],
   "source": [
    "#using while loop print numbers from 10 to 1\n",
    "count = 10\n",
    "while(count>0):\n",
    "    print(count)\n",
    "    count-=1"
   ]
  },
  {
   "cell_type": "code",
   "execution_count": 4,
   "metadata": {},
   "outputs": [
    {
     "name": "stdout",
     "output_type": "stream",
     "text": [
      "1\n",
      "4\n",
      "8.9\n",
      "Netzwerk\n",
      "True\n",
      "python\n"
     ]
    }
   ],
   "source": [
    "#for loop to loop over tuples\n",
    "tup1 = (1,4,8.9,\"Netzwerk\",True,\"python\")\n",
    "for item in tup1:\n",
    "    print(item)"
   ]
  },
  {
   "cell_type": "code",
   "execution_count": 7,
   "metadata": {},
   "outputs": [
    {
     "name": "stdout",
     "output_type": "stream",
     "text": [
      "True\n",
      "3.456\n",
      "4\n",
      "8.9\n",
      "Netzwerk\n",
      "20\n",
      "python\n"
     ]
    }
   ],
   "source": [
    "#for loop to loop over sets\n",
    "set1 = {4,4,8.9,20,True,\"Netzwerk\",True,\"python\",3.456}\n",
    "for item in set1:\n",
    "    print(item)"
   ]
  },
  {
   "cell_type": "code",
   "execution_count": 10,
   "metadata": {},
   "outputs": [
    {
     "name": "stdout",
     "output_type": "stream",
     "text": [
      "Device : Laptop\n",
      "OS : Windows\n",
      "RAM : 8 GB\n",
      "Storage : 1 TB\n"
     ]
    }
   ],
   "source": [
    "#for loop to loop over dictionaries\n",
    "dict1 = {\"Device\":\"Laptop\",\"OS\":\"Windows\",\"RAM\":\"8 GB\",\"Storage\":\"1 TB\"}\n",
    "for key,value in dict1.items():\n",
    "    print(key + \" : \" + value)"
   ]
  },
  {
   "cell_type": "code",
   "execution_count": 11,
   "metadata": {},
   "outputs": [
    {
     "name": "stdout",
     "output_type": "stream",
     "text": [
      "1\n",
      "2\n",
      "3\n",
      "python\n",
      "2.33\n",
      "True\n"
     ]
    }
   ],
   "source": [
    "#for loop to loop over list\n",
    "list1 = [1,2,3,\"python\",2.33,True]\n",
    "for item in list1:\n",
    "    print(item)"
   ]
  },
  {
   "cell_type": "code",
   "execution_count": null,
   "metadata": {},
   "outputs": [],
   "source": []
  }
 ],
 "metadata": {
  "kernelspec": {
   "display_name": "Python 3",
   "language": "python",
   "name": "python3"
  },
  "language_info": {
   "codemirror_mode": {
    "name": "ipython",
    "version": 3
   },
   "file_extension": ".py",
   "mimetype": "text/x-python",
   "name": "python",
   "nbconvert_exporter": "python",
   "pygments_lexer": "ipython3",
   "version": "3.8.3"
  }
 },
 "nbformat": 4,
 "nbformat_minor": 4
}
