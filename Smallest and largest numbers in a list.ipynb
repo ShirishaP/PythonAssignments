{
 "cells": [
  {
   "cell_type": "markdown",
   "metadata": {},
   "source": [
    "Smallest and largest numbers in a list"
   ]
  },
  {
   "cell_type": "code",
   "execution_count": 10,
   "metadata": {},
   "outputs": [
    {
     "name": "stdout",
     "output_type": "stream",
     "text": [
      "Largest number is 90\n",
      "Largest number is 8\n"
     ]
    }
   ],
   "source": [
    "class findLargestandSmallest:\n",
    "    def __init__(self,a,b,c):\n",
    "        self.a=a\n",
    "        self.b=b\n",
    "        self.c=c\n",
    "    def largest(a,b,c):\n",
    "        if (a >= b) and (a >= c): \n",
    "            largest = a \n",
    "        elif (b >= a) and (b >= c): \n",
    "            largest = b \n",
    "        else: \n",
    "            largest = c     \n",
    "        return largest \n",
    "    def smallest(a,b,c):\n",
    "        if (a <= b) and (a <= c): \n",
    "            smallest = a \n",
    "        elif (b <= a) and (b <= c): \n",
    "            smallest = b \n",
    "        else: \n",
    "            smallest = c     \n",
    "        return smallest\n",
    "        \n",
    "        \n",
    "print(\"Largest number is\",findLargestandSmallest.largest(8,10,90))\n",
    "print(\"Largest number is\",findLargestandSmallest.smallest(8,10,90))\n",
    "\n",
    "\n",
    "    \n",
    "            \n",
    "        "
   ]
  },
  {
   "cell_type": "code",
   "execution_count": 11,
   "metadata": {},
   "outputs": [
    {
     "name": "stdout",
     "output_type": "stream",
     "text": [
      "Largest number is 90\n",
      "Largest number is 8\n"
     ]
    }
   ],
   "source": [
    "class findLargestandSmallest:\n",
    "    def __init__(self,a,b,c):\n",
    "        self.a=a\n",
    "        self.b=b\n",
    "        self.c=c\n",
    "    def largest(a,b,c):    \n",
    "        return max(a,b,c) \n",
    "    def smallest(a,b,c):   \n",
    "        return min(a,b,c)\n",
    "        \n",
    "        \n",
    "print(\"Largest number is\",findLargestandSmallest.largest(8,10,90))\n",
    "print(\"Largest number is\",findLargestandSmallest.smallest(8,10,90))"
   ]
  },
  {
   "cell_type": "code",
   "execution_count": null,
   "metadata": {},
   "outputs": [],
   "source": []
  }
 ],
 "metadata": {
  "kernelspec": {
   "display_name": "Python 3",
   "language": "python",
   "name": "python3"
  },
  "language_info": {
   "codemirror_mode": {
    "name": "ipython",
    "version": 3
   },
   "file_extension": ".py",
   "mimetype": "text/x-python",
   "name": "python",
   "nbconvert_exporter": "python",
   "pygments_lexer": "ipython3",
   "version": "3.8.3"
  }
 },
 "nbformat": 4,
 "nbformat_minor": 4
}
