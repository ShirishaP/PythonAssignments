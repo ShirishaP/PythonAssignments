{
 "cells": [
  {
   "cell_type": "markdown",
   "metadata": {},
   "source": [
    "Write a python function to accept user inputs, store it in a list and compute the highest number out of it. User can enter as many numbers as he/she wants.\n",
    "Take care of following things:\n",
    "1. Input must be entered by user\n",
    "2. Exception handling\n",
    "3. Null values\n",
    "4. Errors\n",
    "5. Datatypes\n",
    "6. Output of the function must be a number.\n",
    "7. It should accept correct values and for incorrect values, an error message must be displayed to the user."
   ]
  },
  {
   "cell_type": "code",
   "execution_count": 8,
   "metadata": {},
   "outputs": [
    {
     "name": "stdout",
     "output_type": "stream",
     "text": [
      "Enter the number of inputs you want to give: 3\n",
      "Enter number: 45\n",
      "Enter number: 65\n",
      "Enter number: 89\n",
      "Maximum number in the inputs you entered is  89\n"
     ]
    }
   ],
   "source": [
    "try:\n",
    "    inputs = input(\"Enter the number of inputs you want to give: \")\n",
    "    if inputs=='':\n",
    "        print(\"You did not enter any number, please enter a number\")\n",
    "    else:\n",
    "        numberOfInputs = int(inputs)\n",
    "        inputsList = []\n",
    "        for i in range(0,numberOfInputs):\n",
    "            numberEntered = input(\"Enter number: \")\n",
    "            if numberEntered=='':\n",
    "                print(\"You did not enter any number, please enter a number\")\n",
    "                numberEntered = input(\"Enter number: \")\n",
    "            else:\n",
    "                number = int(numberEntered)\n",
    "                inputsList.append(number)\n",
    "        maxNumber = max(inputsList)\n",
    "        print(\"Maximum number in the inputs you entered is \",maxNumber)\n",
    "except ValueError:\n",
    "    print(\"Please enter numbers only\")\n",
    "except :\n",
    "    print(\"Some Error occured\")\n",
    "    "
   ]
  },
  {
   "cell_type": "code",
   "execution_count": null,
   "metadata": {},
   "outputs": [],
   "source": []
  }
 ],
 "metadata": {
  "kernelspec": {
   "display_name": "Python 3",
   "language": "python",
   "name": "python3"
  },
  "language_info": {
   "codemirror_mode": {
    "name": "ipython",
    "version": 3
   },
   "file_extension": ".py",
   "mimetype": "text/x-python",
   "name": "python",
   "nbconvert_exporter": "python",
   "pygments_lexer": "ipython3",
   "version": "3.8.3"
  }
 },
 "nbformat": 4,
 "nbformat_minor": 4
}
