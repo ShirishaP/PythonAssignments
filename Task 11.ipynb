{
 "cells": [
  {
   "cell_type": "markdown",
   "metadata": {},
   "source": [
    "Task 12 - reduce(),zip() and enumerate()"
   ]
  },
  {
   "cell_type": "code",
   "execution_count": 1,
   "metadata": {},
   "outputs": [],
   "source": [
    "#reduce() - reduce() is to take an existing function, apply it cumulatively to all the items in an iterable, \n",
    "#and generate a single final value. \n",
    "#In general, Python’s reduce() is handy for processing iterables without writing explicit for loops.\n",
    "#faster than loops\n",
    "\n",
    "#syntax ---> reduce(func,sequence, initializer)\n",
    "#NOTE : initializer is optional."
   ]
  },
  {
   "cell_type": "code",
   "execution_count": 6,
   "metadata": {},
   "outputs": [
    {
     "name": "stdout",
     "output_type": "stream",
     "text": [
      "15\n"
     ]
    }
   ],
   "source": [
    "from functools import reduce\n",
    "\n",
    "def add(a,b):\n",
    "    return a+b\n",
    "my_list = [1,2,3,4,5]\n",
    "result = reduce(add,my_list) #default initializer will be 0\n",
    "print(result)\n",
    "#0+1 =1\n",
    "#1+2=3\n",
    "#3+3=6\n",
    "#6+4=10\n",
    "#10+5=15"
   ]
  },
  {
   "cell_type": "code",
   "execution_count": 5,
   "metadata": {},
   "outputs": [
    {
     "name": "stdout",
     "output_type": "stream",
     "text": [
      "25\n"
     ]
    }
   ],
   "source": [
    "#with initializer\n",
    "result = reduce(add,my_list,10) \n",
    "print(result)\n",
    "#10+1=11\n",
    "#11+2=12\n",
    "#12+3=15\n",
    "#15+4= 19\n",
    "#19+6= 25"
   ]
  },
  {
   "cell_type": "code",
   "execution_count": 8,
   "metadata": {},
   "outputs": [
    {
     "name": "stdout",
     "output_type": "stream",
     "text": [
      "0\n"
     ]
    }
   ],
   "source": [
    "# if the list is empty, if intializer is specified there will no error, if not specified there will be an error\n",
    "result = reduce (add,[],0)\n",
    "print(result)"
   ]
  },
  {
   "cell_type": "code",
   "execution_count": 9,
   "metadata": {},
   "outputs": [
    {
     "ename": "TypeError",
     "evalue": "reduce() of empty sequence with no initial value",
     "output_type": "error",
     "traceback": [
      "\u001b[1;31m---------------------------------------------------------------------------\u001b[0m",
      "\u001b[1;31mTypeError\u001b[0m                                 Traceback (most recent call last)",
      "\u001b[1;32m<ipython-input-9-f7f53c0eae15>\u001b[0m in \u001b[0;36m<module>\u001b[1;34m\u001b[0m\n\u001b[1;32m----> 1\u001b[1;33m \u001b[0mresult\u001b[0m \u001b[1;33m=\u001b[0m \u001b[0mreduce\u001b[0m \u001b[1;33m(\u001b[0m\u001b[0madd\u001b[0m\u001b[1;33m,\u001b[0m\u001b[1;33m[\u001b[0m\u001b[1;33m]\u001b[0m\u001b[1;33m)\u001b[0m\u001b[1;33m\u001b[0m\u001b[1;33m\u001b[0m\u001b[0m\n\u001b[0m\u001b[0;32m      2\u001b[0m \u001b[0mprint\u001b[0m\u001b[1;33m(\u001b[0m\u001b[0mresult\u001b[0m\u001b[1;33m)\u001b[0m\u001b[1;33m\u001b[0m\u001b[1;33m\u001b[0m\u001b[0m\n",
      "\u001b[1;31mTypeError\u001b[0m: reduce() of empty sequence with no initial value"
     ]
    }
   ],
   "source": [
    "result = reduce (add,[])\n",
    "print(result)"
   ]
  },
  {
   "cell_type": "code",
   "execution_count": 13,
   "metadata": {},
   "outputs": [
    {
     "name": "stdout",
     "output_type": "stream",
     "text": [
      "336\n"
     ]
    }
   ],
   "source": [
    "#reduce with lambda function \n",
    "numbers =[1,2,3,7,8]\n",
    "numbers_sum = reduce ( lambda a,b :a*b , numbers)\n",
    "print(numbers_sum)"
   ]
  },
  {
   "cell_type": "code",
   "execution_count": 16,
   "metadata": {},
   "outputs": [
    {
     "data": {
      "text/plain": [
       "<zip at 0x27535a92100>"
      ]
     },
     "execution_count": 16,
     "metadata": {},
     "output_type": "execute_result"
    }
   ],
   "source": [
    "#zip() function returns a zip object, which is an iterator of tuples where the \n",
    "#first item in each passed iterator is paired together,and then the second item in each passed iterator are paired together etc.\n",
    "\n",
    "#If the passed iterators have different lengths, the iterator with the least items decides the length of the new iterator.\n",
    "#The iterator stops when the shortest input iterable is exhausted. \n",
    "a = ('Apple','Banana','Kiwi','Mango')\n",
    "b = ('juice' , 'MilkShake' , 'Ice Cream')\n",
    "zip(a,b)\n"
   ]
  },
  {
   "cell_type": "code",
   "execution_count": 17,
   "metadata": {},
   "outputs": [
    {
     "data": {
      "text/plain": [
       "[('Apple', 'juice'), ('Banana', 'MilkShake'), ('Kiwi', 'Ice Cream')]"
      ]
     },
     "execution_count": 17,
     "metadata": {},
     "output_type": "execute_result"
    }
   ],
   "source": [
    "list(zip(a,b)) # first element in a is paired up with first element in b and so on. \n",
    "                #If the lengths are diffenet the small tuple decides the length of the resultant"
   ]
  },
  {
   "cell_type": "code",
   "execution_count": 18,
   "metadata": {},
   "outputs": [
    {
     "data": {
      "text/plain": [
       "<zip at 0x27535a92c00>"
      ]
     },
     "execution_count": 18,
     "metadata": {},
     "output_type": "execute_result"
    }
   ],
   "source": [
    "#If we do not pass any parameter, zip() returns an empty iterator\n",
    "zip()"
   ]
  },
  {
   "cell_type": "code",
   "execution_count": 19,
   "metadata": {},
   "outputs": [
    {
     "data": {
      "text/plain": [
       "[('Apple',), ('Banana',), ('Kiwi',), ('Mango',)]"
      ]
     },
     "execution_count": 19,
     "metadata": {},
     "output_type": "execute_result"
    }
   ],
   "source": [
    "#if only one tuple is passed, returns an iterator of tuples with each tuple having only one element.\n",
    "list(zip(a))"
   ]
  },
  {
   "cell_type": "code",
   "execution_count": 25,
   "metadata": {},
   "outputs": [
    {
     "name": "stdout",
     "output_type": "stream",
     "text": [
      "('Apple', 'Banana', 'Kiwi')\n",
      "('juice', 'MilkShake', 'Ice Cream')\n"
     ]
    }
   ],
   "source": [
    "#to unzip a zipped iterator\n",
    "a = ('Apple','Banana','Kiwi','Mango')\n",
    "b = ('juice' , 'MilkShake' , 'Ice Cream')\n",
    "c = zip(a,b)\n",
    "d,e = zip(*c)\n",
    "print(d)\n",
    "print(e)"
   ]
  },
  {
   "cell_type": "code",
   "execution_count": 29,
   "metadata": {},
   "outputs": [
    {
     "data": {
      "text/plain": [
       "[(0, 'Apple'), (1, 'Banana'), (2, 'Kiwi'), (3, 'Mango')]"
      ]
     },
     "execution_count": 29,
     "metadata": {},
     "output_type": "execute_result"
    }
   ],
   "source": [
    "# enumerate() function takes a collection and returns it as an enumerate object.\n",
    "\n",
    "#enumerate() function adds a counter as the key of the enumerate object.\n",
    "#syntax - enumerate(iterable, start=0)\n",
    "#we can use for loop but sometimes we might need a counter along with for loop \n",
    "#rather than initializing a counter and incrementing it at every iteration we can user enumerate\n",
    "\n",
    "a = ('Apple','Banana','Kiwi','Mango')\n",
    "k=enumerate(a) #defult start will be 0\n",
    "list(k)\n"
   ]
  },
  {
   "cell_type": "code",
   "execution_count": 32,
   "metadata": {},
   "outputs": [
    {
     "name": "stdout",
     "output_type": "stream",
     "text": [
      "100 Apple\n",
      "101 Banana\n",
      "102 Kiwi\n",
      "103 Mango\n"
     ]
    }
   ],
   "source": [
    "for item,index in enumerate(a, start = 100):  #we can do different operations based on index or count\n",
    "    print(item,index)"
   ]
  },
  {
   "cell_type": "code",
   "execution_count": null,
   "metadata": {},
   "outputs": [],
   "source": []
  }
 ],
 "metadata": {
  "kernelspec": {
   "display_name": "Python 3",
   "language": "python",
   "name": "python3"
  },
  "language_info": {
   "codemirror_mode": {
    "name": "ipython",
    "version": 3
   },
   "file_extension": ".py",
   "mimetype": "text/x-python",
   "name": "python",
   "nbconvert_exporter": "python",
   "pygments_lexer": "ipython3",
   "version": "3.8.3"
  }
 },
 "nbformat": 4,
 "nbformat_minor": 4
}
