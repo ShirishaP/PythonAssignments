{
 "cells": [
  {
   "cell_type": "markdown",
   "metadata": {},
   "source": [
    "Reverse of a list"
   ]
  },
  {
   "cell_type": "code",
   "execution_count": 3,
   "metadata": {},
   "outputs": [
    {
     "name": "stdout",
     "output_type": "stream",
     "text": [
      "Enter number of elements : 5\n",
      "5\n",
      "7\n",
      "89\n",
      "89\n",
      "56\n",
      "[5, 7, 89, 89, 56]\n",
      "[56, 89, 89, 7, 5]\n"
     ]
    }
   ],
   "source": [
    "lst = [] \n",
    "n = int(input(\"Enter number of elements to be reveresed : \")) \n",
    "\n",
    "for i in range(0, n): \n",
    "    elements = int(input())   \n",
    "    lst.append(elements) \n",
    "print(lst)\n",
    "reverse_lst = lst[::-1]\n",
    "print(reverse_lst)"
   ]
  },
  {
   "cell_type": "code",
   "execution_count": null,
   "metadata": {},
   "outputs": [],
   "source": []
  }
 ],
 "metadata": {
  "kernelspec": {
   "display_name": "Python 3",
   "language": "python",
   "name": "python3"
  },
  "language_info": {
   "codemirror_mode": {
    "name": "ipython",
    "version": 3
   },
   "file_extension": ".py",
   "mimetype": "text/x-python",
   "name": "python",
   "nbconvert_exporter": "python",
   "pygments_lexer": "ipython3",
   "version": "3.8.3"
  }
 },
 "nbformat": 4,
 "nbformat_minor": 4
}
