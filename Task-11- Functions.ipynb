{
 "cells": [
  {
   "cell_type": "markdown",
   "metadata": {},
   "source": [
    "Task 11\n",
    "\n",
    "1. Ask 2 numbers from users and store it in num1 and num2\n",
    "2. Ask user to press 1 for addition,2 for subtraction,3 for multiplication and 4 for division\n",
    "3. create 4 seperate functions for each operation (i.e. addition,subtraction,multiplication and division)\n",
    "4. based on number given by user,call that perticular function and print the output"
   ]
  },
  {
   "cell_type": "code",
   "execution_count": 10,
   "metadata": {},
   "outputs": [
    {
     "name": "stdout",
     "output_type": "stream",
     "text": [
      "Enter a number: 5\n",
      "Enter another number: 5\n",
      "Enter a number to perform an operation \n",
      " 1 for addition \n",
      " 2 for subtraction \n",
      " 3 for multiplication \n",
      " 4 for division \n",
      "1\n",
      "The addition of two numbers you entered is 10\n"
     ]
    }
   ],
   "source": [
    "#method 1\n",
    "\n",
    "def add(num1,num2):\n",
    "    return num1+num2\n",
    "def sub(num1,num2):\n",
    "    return num1-num2\n",
    "def mul(num1,num2):\n",
    "    return num1*num2\n",
    "def div(num1,num2):\n",
    "    return num1/num2\n",
    "\n",
    "num1 = int(input (\"Enter a number: \"))\n",
    "num2 = int(input (\"Enter another number: \"))\n",
    "choice = input(\"Enter a number to perform an operation \\n 1 for addition \\n 2 for subtraction \\n 3 for multiplication \\n 4 for division \\n\")\n",
    "\n",
    "\n",
    "if( choice == \"1\"):\n",
    "    num3 = add(num1,num2)\n",
    "    print (\"The addition of two numbers you entered is\",num3)\n",
    "elif (choice == \"2\"):\n",
    "    num4 = sub(num1,num2)\n",
    "    print (\"The subtraction of two numbers you entered is\",num4)\n",
    "elif( choice == \"3\"):\n",
    "    num5 = mul(num1,num2)\n",
    "    print (\"The multiplication of two numbers you entered is\",num5)\n",
    "elif(choice == \"4\"):\n",
    "    num6 = div(num1,num2)\n",
    "    print(\"The division of two numbers you entered is\",num6)\n",
    "else :\n",
    "    print(\"You entered a number which is not specified\")\n",
    "\n"
   ]
  },
  {
   "cell_type": "code",
   "execution_count": 11,
   "metadata": {},
   "outputs": [
    {
     "name": "stdout",
     "output_type": "stream",
     "text": [
      "Enter a number: 4\n",
      "Enter another number: 4\n",
      "Enter a number to perform an operation \n",
      " 1 for addition \n",
      " 2 for subtraction \n",
      " 3 for multiplication \n",
      " 4 for division \n",
      "4\n",
      "The division of two numbers you entered is 1.0\n"
     ]
    }
   ],
   "source": [
    "#method 2 \n",
    "def func_mathoperation(choice,num1,num2):\n",
    "    if( choice == \"1\"):\n",
    "       num3 = num1 + num2\n",
    "       print (\"The addition of two numbers you entered is\",num3)\n",
    "    elif (choice == \"2\"):\n",
    "       num4 = num1 - num2\n",
    "       print (\"The subtraction of two numbers you entered is\",num4)\n",
    "    elif( choice == \"3\"):\n",
    "       num5 = num1 * num2\n",
    "       print (\"The multiplication of two numbers you entered is\",num5)\n",
    "    elif(choice == \"4\"):\n",
    "       num6 = num1 / num2\n",
    "       print(\"The division of two numbers you entered is\",num6)\n",
    "    else :\n",
    "       print(\"You entered a number which is not specified\")\n",
    "\n",
    "num1 = int(input (\"Enter a number: \"))\n",
    "num2 = int(input (\"Enter another number: \"))\n",
    "choice = input(\"Enter a number to perform an operation \\n 1 for addition \\n 2 for subtraction \\n 3 for multiplication \\n 4 for division \\n\")\n",
    "\n",
    "\n",
    "func_mathoperation(choice,num1,num2)"
   ]
  },
  {
   "cell_type": "code",
   "execution_count": null,
   "metadata": {},
   "outputs": [],
   "source": []
  }
 ],
 "metadata": {
  "kernelspec": {
   "display_name": "Python 3",
   "language": "python",
   "name": "python3"
  },
  "language_info": {
   "codemirror_mode": {
    "name": "ipython",
    "version": 3
   },
   "file_extension": ".py",
   "mimetype": "text/x-python",
   "name": "python",
   "nbconvert_exporter": "python",
   "pygments_lexer": "ipython3",
   "version": "3.8.3"
  }
 },
 "nbformat": 4,
 "nbformat_minor": 4
}
