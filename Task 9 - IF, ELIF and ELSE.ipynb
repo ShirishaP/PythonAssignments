{
 "cells": [
  {
   "cell_type": "markdown",
   "metadata": {},
   "source": [
    "Task9\n",
    "\n",
    "Ask 2 numbers from users and store it in num1 and num2\n",
    "\n",
    "Ask user to press 1 for addition,2 for subtraction,3 for multiplication and 4 for division\n",
    "\n",
    "based on number given by user do the math operation"
   ]
  },
  {
   "cell_type": "code",
   "execution_count": 15,
   "metadata": {},
   "outputs": [
    {
     "name": "stdout",
     "output_type": "stream",
     "text": [
      "Enter a number: 5\n",
      "Enter another number: 6\n",
      "Enter a number to perform an operation \n",
      " 1 for addition \n",
      " 2 for subtraction \n",
      " 3 for multiplication \n",
      " 4 for division \n",
      "7\n",
      "You entered a number which is not specified\n"
     ]
    }
   ],
   "source": [
    "num1 = input (\"Enter a number: \")\n",
    "num2 = input (\"Enter another number: \")\n",
    "choice = input(\"Enter a number to perform an operation \\n 1 for addition \\n 2 for subtraction \\n 3 for multiplication \\n 4 for division \\n\")\n",
    "if( choice == \"1\"):\n",
    "    num3 = int(num1) + int(num2)\n",
    "    print (\"The addition of two numbers you entered is\",num3)\n",
    "elif (choice == \"2\"):\n",
    "    num4 = int(num1) - int(num2)\n",
    "    print (\"The subtraction of two numbers you entered is\",num4)\n",
    "elif( choice == \"3\"):\n",
    "    num5 = int(num1)*int(num2)\n",
    "    print (\"The multiplication of two numbers you entered is\",num5)\n",
    "elif(choice == \"4\"):\n",
    "    num6 = int(num1) / int(num2)\n",
    "    print(\"The division of two numbers you entered is\",num6)\n",
    "else :\n",
    "    print(\"You entered a number which is not specified\")\n",
    "    \n",
    "    "
   ]
  },
  {
   "cell_type": "code",
   "execution_count": null,
   "metadata": {},
   "outputs": [],
   "source": []
  }
 ],
 "metadata": {
  "kernelspec": {
   "display_name": "Python 3",
   "language": "python",
   "name": "python3"
  },
  "language_info": {
   "codemirror_mode": {
    "name": "ipython",
    "version": 3
   },
   "file_extension": ".py",
   "mimetype": "text/x-python",
   "name": "python",
   "nbconvert_exporter": "python",
   "pygments_lexer": "ipython3",
   "version": "3.8.3"
  }
 },
 "nbformat": 4,
 "nbformat_minor": 4
}
